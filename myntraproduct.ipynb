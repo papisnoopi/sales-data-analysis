{
 "cells": [
  {
   "cell_type": "markdown",
   "id": "9b541a37-a883-4db8-8c6f-466df75b834f",
   "metadata": {},
   "source": [
    "# MYNTRA PRODUCT\n",
    "\n",
    "#### The Myntra product dataset was analyzed using Python to explore key features like product brand, gender, price, and primary color. Missing values in PrimaryColor were filled using the most common color. We examined brand frequency, price distribution, and gender-based product trends. This helped identify popular brands and pricing patterns."
   ]
  },
  {
   "cell_type": "markdown",
   "id": "00f81a30-fc2a-4cc9-92d1-83692838b4f8",
   "metadata": {},
   "source": [
    "# Import libraries"
   ]
  },
  {
   "cell_type": "code",
   "execution_count": 1,
   "id": "8cb71e2d-6aa9-47d6-92f8-3c038d32dac5",
   "metadata": {},
   "outputs": [],
   "source": [
    "import numpy as np\n",
    "import pandas as pd\n",
    "import matplotlib.pyplot as plt\n",
    "import seaborn as sns"
   ]
  },
  {
   "cell_type": "code",
   "execution_count": 4,
   "id": "bbb3c812-4bc4-4338-b7a3-3a6f234e74cd",
   "metadata": {},
   "outputs": [],
   "source": [
    "df = pd.read_csv(r\"C:\\Users\\fisay\\OneDrive\\Dokumente\\Desktop\\myntra product.csv\")"
   ]
  },
  {
   "cell_type": "markdown",
   "id": "8c6ea5f2-33a7-4bbe-bcf6-797157fc1afd",
   "metadata": {},
   "source": [
    "# LOAD THE DATASET"
   ]
  },
  {
   "cell_type": "code",
   "execution_count": 5,
   "id": "b96adeb0-54cc-4a6f-a506-d85efd713836",
   "metadata": {},
   "outputs": [
    {
     "data": {
      "text/html": [
       "<div>\n",
       "<style scoped>\n",
       "    .dataframe tbody tr th:only-of-type {\n",
       "        vertical-align: middle;\n",
       "    }\n",
       "\n",
       "    .dataframe tbody tr th {\n",
       "        vertical-align: top;\n",
       "    }\n",
       "\n",
       "    .dataframe thead th {\n",
       "        text-align: right;\n",
       "    }\n",
       "</style>\n",
       "<table border=\"1\" class=\"dataframe\">\n",
       "  <thead>\n",
       "    <tr style=\"text-align: right;\">\n",
       "      <th></th>\n",
       "      <th>ProductID</th>\n",
       "      <th>ProductName</th>\n",
       "      <th>ProductBrand</th>\n",
       "      <th>Gender</th>\n",
       "      <th>Price (INR)</th>\n",
       "      <th>NumImages</th>\n",
       "      <th>Description</th>\n",
       "      <th>PrimaryColor</th>\n",
       "    </tr>\n",
       "  </thead>\n",
       "  <tbody>\n",
       "    <tr>\n",
       "      <th>0</th>\n",
       "      <td>10017413</td>\n",
       "      <td>DKNY Unisex Black &amp; Grey Printed Medium Trolle...</td>\n",
       "      <td>DKNY</td>\n",
       "      <td>Unisex</td>\n",
       "      <td>11745</td>\n",
       "      <td>7</td>\n",
       "      <td>Black and grey printed medium trolley bag, sec...</td>\n",
       "      <td>Black</td>\n",
       "    </tr>\n",
       "    <tr>\n",
       "      <th>1</th>\n",
       "      <td>10016283</td>\n",
       "      <td>EthnoVogue Women Beige &amp; Grey Made to Measure ...</td>\n",
       "      <td>EthnoVogue</td>\n",
       "      <td>Women</td>\n",
       "      <td>5810</td>\n",
       "      <td>7</td>\n",
       "      <td>Beige &amp; Grey made to measure kurta with churid...</td>\n",
       "      <td>Beige</td>\n",
       "    </tr>\n",
       "    <tr>\n",
       "      <th>2</th>\n",
       "      <td>10009781</td>\n",
       "      <td>SPYKAR Women Pink Alexa Super Skinny Fit High-...</td>\n",
       "      <td>SPYKAR</td>\n",
       "      <td>Women</td>\n",
       "      <td>899</td>\n",
       "      <td>7</td>\n",
       "      <td>Pink coloured wash 5-pocket high-rise cropped ...</td>\n",
       "      <td>Pink</td>\n",
       "    </tr>\n",
       "    <tr>\n",
       "      <th>3</th>\n",
       "      <td>10015921</td>\n",
       "      <td>Raymond Men Blue Self-Design Single-Breasted B...</td>\n",
       "      <td>Raymond</td>\n",
       "      <td>Men</td>\n",
       "      <td>5599</td>\n",
       "      <td>5</td>\n",
       "      <td>Blue self-design bandhgala suitBlue self-desig...</td>\n",
       "      <td>Blue</td>\n",
       "    </tr>\n",
       "    <tr>\n",
       "      <th>4</th>\n",
       "      <td>10017833</td>\n",
       "      <td>Parx Men Brown &amp; Off-White Slim Fit Printed Ca...</td>\n",
       "      <td>Parx</td>\n",
       "      <td>Men</td>\n",
       "      <td>759</td>\n",
       "      <td>5</td>\n",
       "      <td>Brown and off-white printed casual shirt, has ...</td>\n",
       "      <td>White</td>\n",
       "    </tr>\n",
       "    <tr>\n",
       "      <th>...</th>\n",
       "      <td>...</td>\n",
       "      <td>...</td>\n",
       "      <td>...</td>\n",
       "      <td>...</td>\n",
       "      <td>...</td>\n",
       "      <td>...</td>\n",
       "      <td>...</td>\n",
       "      <td>...</td>\n",
       "    </tr>\n",
       "    <tr>\n",
       "      <th>12486</th>\n",
       "      <td>10262843</td>\n",
       "      <td>Pepe Jeans Men Black Hammock Slim Fit Low-Rise...</td>\n",
       "      <td>Pepe Jeans</td>\n",
       "      <td>Men</td>\n",
       "      <td>1299</td>\n",
       "      <td>7</td>\n",
       "      <td>Black dark wash 5-pocket low-rise jeans, clean...</td>\n",
       "      <td>Black</td>\n",
       "    </tr>\n",
       "    <tr>\n",
       "      <th>12487</th>\n",
       "      <td>10261721</td>\n",
       "      <td>Mochi Women Gold-Toned Solid Heels</td>\n",
       "      <td>Mochi</td>\n",
       "      <td>Women</td>\n",
       "      <td>1990</td>\n",
       "      <td>5</td>\n",
       "      <td>A pair of gold-toned open toe heels, has regul...</td>\n",
       "      <td>Gold</td>\n",
       "    </tr>\n",
       "    <tr>\n",
       "      <th>12488</th>\n",
       "      <td>10261607</td>\n",
       "      <td>612 league Girls Navy Blue &amp; White Printed Reg...</td>\n",
       "      <td>612 league</td>\n",
       "      <td>Girls</td>\n",
       "      <td>602</td>\n",
       "      <td>4</td>\n",
       "      <td>Navy Blue and White printed mid-rise denim sho...</td>\n",
       "      <td>Blue</td>\n",
       "    </tr>\n",
       "    <tr>\n",
       "      <th>12489</th>\n",
       "      <td>10266621</td>\n",
       "      <td>Bvlgari Men Aqva Pour Homme Marine Eau de Toil...</td>\n",
       "      <td>Bvlgari</td>\n",
       "      <td>Men</td>\n",
       "      <td>8950</td>\n",
       "      <td>2</td>\n",
       "      <td>Bvlgari Men Aqva Pour Homme Marine Eau de Toil...</td>\n",
       "      <td>NaN</td>\n",
       "    </tr>\n",
       "    <tr>\n",
       "      <th>12490</th>\n",
       "      <td>10265199</td>\n",
       "      <td>Pepe Jeans Men Black &amp; Grey Striped Polo Colla...</td>\n",
       "      <td>Pepe Jeans</td>\n",
       "      <td>Men</td>\n",
       "      <td>799</td>\n",
       "      <td>5</td>\n",
       "      <td>Black and grey striped T-shirt, has a polo col...</td>\n",
       "      <td>Black</td>\n",
       "    </tr>\n",
       "  </tbody>\n",
       "</table>\n",
       "<p>12491 rows × 8 columns</p>\n",
       "</div>"
      ],
      "text/plain": [
       "       ProductID                                        ProductName  \\\n",
       "0       10017413  DKNY Unisex Black & Grey Printed Medium Trolle...   \n",
       "1       10016283  EthnoVogue Women Beige & Grey Made to Measure ...   \n",
       "2       10009781  SPYKAR Women Pink Alexa Super Skinny Fit High-...   \n",
       "3       10015921  Raymond Men Blue Self-Design Single-Breasted B...   \n",
       "4       10017833  Parx Men Brown & Off-White Slim Fit Printed Ca...   \n",
       "...          ...                                                ...   \n",
       "12486   10262843  Pepe Jeans Men Black Hammock Slim Fit Low-Rise...   \n",
       "12487   10261721                 Mochi Women Gold-Toned Solid Heels   \n",
       "12488   10261607  612 league Girls Navy Blue & White Printed Reg...   \n",
       "12489   10266621  Bvlgari Men Aqva Pour Homme Marine Eau de Toil...   \n",
       "12490   10265199  Pepe Jeans Men Black & Grey Striped Polo Colla...   \n",
       "\n",
       "      ProductBrand  Gender  Price (INR)  NumImages  \\\n",
       "0             DKNY  Unisex        11745          7   \n",
       "1       EthnoVogue   Women         5810          7   \n",
       "2           SPYKAR   Women          899          7   \n",
       "3          Raymond     Men         5599          5   \n",
       "4             Parx     Men          759          5   \n",
       "...            ...     ...          ...        ...   \n",
       "12486   Pepe Jeans     Men         1299          7   \n",
       "12487        Mochi   Women         1990          5   \n",
       "12488   612 league   Girls          602          4   \n",
       "12489      Bvlgari     Men         8950          2   \n",
       "12490   Pepe Jeans     Men          799          5   \n",
       "\n",
       "                                             Description PrimaryColor  \n",
       "0      Black and grey printed medium trolley bag, sec...        Black  \n",
       "1      Beige & Grey made to measure kurta with churid...        Beige  \n",
       "2      Pink coloured wash 5-pocket high-rise cropped ...         Pink  \n",
       "3      Blue self-design bandhgala suitBlue self-desig...         Blue  \n",
       "4      Brown and off-white printed casual shirt, has ...        White  \n",
       "...                                                  ...          ...  \n",
       "12486  Black dark wash 5-pocket low-rise jeans, clean...        Black  \n",
       "12487  A pair of gold-toned open toe heels, has regul...         Gold  \n",
       "12488  Navy Blue and White printed mid-rise denim sho...         Blue  \n",
       "12489  Bvlgari Men Aqva Pour Homme Marine Eau de Toil...          NaN  \n",
       "12490  Black and grey striped T-shirt, has a polo col...        Black  \n",
       "\n",
       "[12491 rows x 8 columns]"
      ]
     },
     "execution_count": 5,
     "metadata": {},
     "output_type": "execute_result"
    }
   ],
   "source": [
    "df"
   ]
  },
  {
   "cell_type": "markdown",
   "id": "858a32cc-7d3f-4246-8ab6-80243f1bbd1d",
   "metadata": {},
   "source": [
    "# HANDLE THE MISSING VALUES"
   ]
  },
  {
   "cell_type": "code",
   "execution_count": 8,
   "id": "bb5f8d97-ab44-4757-a321-68014b1ec7c0",
   "metadata": {},
   "outputs": [
    {
     "data": {
      "text/plain": [
       "ProductID       0\n",
       "ProductName     0\n",
       "ProductBrand    0\n",
       "Gender          0\n",
       "Price (INR)     0\n",
       "NumImages       0\n",
       "Description     0\n",
       "PrimaryColor    0\n",
       "dtype: int64"
      ]
     },
     "execution_count": 8,
     "metadata": {},
     "output_type": "execute_result"
    }
   ],
   "source": [
    "df.isnull().sum()"
   ]
  },
  {
   "cell_type": "code",
   "execution_count": 7,
   "id": "468628ee-4746-4fb1-bf4e-f81db80ecf46",
   "metadata": {},
   "outputs": [
    {
     "name": "stderr",
     "output_type": "stream",
     "text": [
      "C:\\Users\\fisay\\AppData\\Local\\Temp\\ipykernel_19596\\3316722800.py:1: FutureWarning: A value is trying to be set on a copy of a DataFrame or Series through chained assignment using an inplace method.\n",
      "The behavior will change in pandas 3.0. This inplace method will never work because the intermediate object on which we are setting values always behaves as a copy.\n",
      "\n",
      "For example, when doing 'df[col].method(value, inplace=True)', try using 'df.method({col: value}, inplace=True)' or df[col] = df[col].method(value) instead, to perform the operation inplace on the original object.\n",
      "\n",
      "\n",
      "  df['PrimaryColor'].fillna(df['PrimaryColor'].mode()[0], inplace=True)\n"
     ]
    }
   ],
   "source": [
    "df['PrimaryColor'].fillna(df['PrimaryColor'].mode()[0], inplace=True)\n"
   ]
  },
  {
   "cell_type": "markdown",
   "id": "962b6037-d9bf-4142-adff-2fb5e60ebe51",
   "metadata": {},
   "source": [
    "# CHECK BASIC INFO"
   ]
  },
  {
   "cell_type": "code",
   "execution_count": 9,
   "id": "f27cb794-b12a-49f9-b727-3d8921d9c3e2",
   "metadata": {},
   "outputs": [
    {
     "data": {
      "text/plain": [
       "Index(['ProductID', 'ProductName', 'ProductBrand', 'Gender', 'Price (INR)',\n",
       "       'NumImages', 'Description', 'PrimaryColor'],\n",
       "      dtype='object')"
      ]
     },
     "execution_count": 9,
     "metadata": {},
     "output_type": "execute_result"
    }
   ],
   "source": [
    "df.columns"
   ]
  },
  {
   "cell_type": "markdown",
   "id": "1a4b41b6-176f-4c31-a496-61624f7a1e81",
   "metadata": {},
   "source": [
    "# Get Descriptive Statistics"
   ]
  },
  {
   "cell_type": "code",
   "execution_count": 14,
   "id": "d53d8c94-702e-4015-8a29-87ef6539d117",
   "metadata": {},
   "outputs": [
    {
     "name": "stdout",
     "output_type": "stream",
     "text": [
      "          ProductID   Price (INR)     NumImages\n",
      "count  1.249100e+04  12491.000000  12491.000000\n",
      "mean   9.917160e+06   1452.660956      4.913698\n",
      "std    1.438006e+06   2118.503976      1.092333\n",
      "min    1.012060e+05     90.000000      1.000000\n",
      "25%    1.006215e+07    649.000000      5.000000\n",
      "50%    1.015463e+07    920.000000      5.000000\n",
      "75%    1.021565e+07   1499.000000      5.000000\n",
      "max    1.027514e+07  63090.000000     10.000000\n"
     ]
    }
   ],
   "source": [
    "print(df.describe())  # For numeric data like price and images\n"
   ]
  },
  {
   "cell_type": "markdown",
   "id": "0039c8fe-eb94-47ff-a68a-e11ae885dcb4",
   "metadata": {},
   "source": [
    "# Average price by gender"
   ]
  },
  {
   "cell_type": "code",
   "execution_count": 26,
   "id": "e0295c91-edff-4bde-9efe-ef9be976ed77",
   "metadata": {},
   "outputs": [
    {
     "name": "stdout",
     "output_type": "stream",
     "text": [
      "Gender\n",
      "Boys            849.890909\n",
      "Girls           941.459091\n",
      "Men            1573.978872\n",
      "Unisex         2161.124579\n",
      "Unisex Kids    1082.717391\n",
      "Women          1356.361295\n",
      "Name: Price (INR), dtype: float64\n"
     ]
    }
   ],
   "source": [
    "print(df.groupby('Gender')['Price (INR)'].mean())"
   ]
  },
  {
   "cell_type": "markdown",
   "id": "7b48fe17-7b49-414f-8a5c-323837426a49",
   "metadata": {},
   "source": [
    "\n",
    "# Number of products per brand"
   ]
  },
  {
   "cell_type": "code",
   "execution_count": 28,
   "id": "47cdd511-23ef-44f1-935f-3b8060161556",
   "metadata": {},
   "outputs": [
    {
     "name": "stdout",
     "output_type": "stream",
     "text": [
      "ProductBrand\n",
      "Indian Terrain                  971\n",
      "Puma                            345\n",
      "Pepe Jeans                      340\n",
      "AURELIA                         307\n",
      "Flying Machine                  301\n",
      "                               ... \n",
      "Johnny Bravo by Kook N Keech      1\n",
      "Allen Solly Sport                 1\n",
      "HAMMER                            1\n",
      "CUTECUMBER                        1\n",
      "Stupid Cupid                      1\n",
      "Name: count, Length: 677, dtype: int64\n"
     ]
    }
   ],
   "source": [
    "print(df['ProductBrand'].value_counts())"
   ]
  },
  {
   "cell_type": "markdown",
   "id": "138b92e2-0298-46dc-b63e-1a8db6295fdd",
   "metadata": {},
   "source": [
    "# Histogram of prices"
   ]
  },
  {
   "cell_type": "code",
   "execution_count": 19,
   "id": "71c47def-14e2-4426-906c-1143833e4f79",
   "metadata": {},
   "outputs": [
    {
     "data": {
      "image/png": "[encoded data removed]",
      "text/plain": [
       "<Figure size 640x480 with 1 Axes>"
      ]
     },
     "metadata": {},
     "output_type": "display_data"
    }
   ],
   "source": [
    "\n",
    "sns.histplot(df['Price (INR)'], bins=30)\n",
    "plt.title('Price Distribution')\n",
    "plt.show()"
   ]
  },
  {
   "cell_type": "markdown",
   "id": "34a4eb01-0ad5-48ce-ae9a-ba17f25186ac",
   "metadata": {},
   "source": [
    "\n",
    "# Top 5 brands"
   ]
  },
  {
   "cell_type": "code",
   "execution_count": 20,
   "id": "1408820d-7dc1-4a72-a312-27d04abef477",
   "metadata": {},
   "outputs": [
    {
     "data": {
      "image/png": "[encoded data removed]",
      "text/plain": [
       "<Figure size 640x480 with 1 Axes>"
      ]
     },
     "metadata": {},
     "output_type": "display_data"
    }
   ],
   "source": [
    "top_brands = df['ProductBrand'].value_counts().head(5)\n",
    "top_brands.plot(kind='bar', title='Top 5 Brands')\n",
    "plt.show()"
   ]
  },
  {
   "cell_type": "code",
   "execution_count": 23,
   "id": "632a78c4-6305-4c87-9cad-4a8a7ec557ca",
   "metadata": {},
   "outputs": [],
   "source": [
    "df.to_csv(r\"C:\\Users\\fisay\\OneDrive\\Dokumente\\Desktop\\myntra product.csv\", index=False)\n"
   ]
  }
 ],
 "metadata": {
  "kernelspec": {
   "display_name": "Python [conda env:base] *",
   "language": "python",
   "name": "conda-base-py"
  },
  "language_info": {
   "codemirror_mode": {
    "name": "ipython",
    "version": 3
   },
   "file_extension": ".py",
   "mimetype": "text/x-python",
   "name": "python",
   "nbconvert_exporter": "python",
   "pygments_lexer": "ipython3",
   "version": "3.12.7"
  }
 },
 "nbformat": 4,
 "nbformat_minor": 5
}
