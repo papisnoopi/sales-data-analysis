{
 "cells": [
  {
   "cell_type": "code",
   "execution_count": 1,
   "id": "118dc574-bc78-49ae-ac3c-a95392025d0b",
   "metadata": {},
   "outputs": [],
   "source": [
    "import numpy as np\n",
    "import pandas as pd\n",
    "import matplotlib.pyplot as plt\n",
    "import seaborn as sns\n",
    "\n"
   ]
  },
  {
   "cell_type": "code",
   "execution_count": 2,
   "id": "07456543-0831-45af-95ad-8ef8bde148e4",
   "metadata": {},
   "outputs": [],
   "source": [
    "df = pd.read_csv(r\"C:\\Users\\fisay\\OneDrive\\Dokumente\\Desktop\\Copy of laptop_dataset(1).csv\")"
   ]
  },
  {
   "cell_type": "code",
   "execution_count": 3,
   "id": "d7a94824-cc58-410d-9a34-35e0ea871b08",
   "metadata": {},
   "outputs": [
    {
     "data": {
      "text/html": [
       "<div>\n",
       "<style scoped>\n",
       "    .dataframe tbody tr th:only-of-type {\n",
       "        vertical-align: middle;\n",
       "    }\n",
       "\n",
       "    .dataframe tbody tr th {\n",
       "        vertical-align: top;\n",
       "    }\n",
       "\n",
       "    .dataframe thead th {\n",
       "        text-align: right;\n",
       "    }\n",
       "</style>\n",
       "<table border=\"1\" class=\"dataframe\">\n",
       "  <thead>\n",
       "    <tr style=\"text-align: right;\">\n",
       "      <th></th>\n",
       "      <th>Brand</th>\n",
       "      <th>Processor</th>\n",
       "      <th>RAM (GB)</th>\n",
       "      <th>Storage</th>\n",
       "      <th>GPU</th>\n",
       "      <th>Screen Size (inch)</th>\n",
       "      <th>Resolution</th>\n",
       "      <th>Battery Life (hours)</th>\n",
       "      <th>Weight (kg)</th>\n",
       "      <th>Operating System</th>\n",
       "      <th>Price ($)</th>\n",
       "    </tr>\n",
       "  </thead>\n",
       "  <tbody>\n",
       "    <tr>\n",
       "      <th>0</th>\n",
       "      <td>Apple</td>\n",
       "      <td>AMD Ryzen 3</td>\n",
       "      <td>64</td>\n",
       "      <td>512GB SSD</td>\n",
       "      <td>Nvidia GTX 1650</td>\n",
       "      <td>17.3</td>\n",
       "      <td>2560x1440</td>\n",
       "      <td>8.9</td>\n",
       "      <td>1.42</td>\n",
       "      <td>FreeDOS</td>\n",
       "      <td>3997.07</td>\n",
       "    </tr>\n",
       "    <tr>\n",
       "      <th>1</th>\n",
       "      <td>Razer</td>\n",
       "      <td>AMD Ryzen 7</td>\n",
       "      <td>4</td>\n",
       "      <td>1TB SSD</td>\n",
       "      <td>Nvidia RTX 3080</td>\n",
       "      <td>14.0</td>\n",
       "      <td>1366x768</td>\n",
       "      <td>9.4</td>\n",
       "      <td>2.57</td>\n",
       "      <td>Linux</td>\n",
       "      <td>1355.78</td>\n",
       "    </tr>\n",
       "    <tr>\n",
       "      <th>2</th>\n",
       "      <td>Asus</td>\n",
       "      <td>Intel i5</td>\n",
       "      <td>32</td>\n",
       "      <td>2TB SSD</td>\n",
       "      <td>Nvidia RTX 3060</td>\n",
       "      <td>13.3</td>\n",
       "      <td>3840x2160</td>\n",
       "      <td>8.5</td>\n",
       "      <td>1.74</td>\n",
       "      <td>FreeDOS</td>\n",
       "      <td>2673.07</td>\n",
       "    </tr>\n",
       "    <tr>\n",
       "      <th>3</th>\n",
       "      <td>Lenovo</td>\n",
       "      <td>Intel i5</td>\n",
       "      <td>4</td>\n",
       "      <td>256GB SSD</td>\n",
       "      <td>Nvidia RTX 3080</td>\n",
       "      <td>13.3</td>\n",
       "      <td>1366x768</td>\n",
       "      <td>10.5</td>\n",
       "      <td>3.10</td>\n",
       "      <td>Windows</td>\n",
       "      <td>751.17</td>\n",
       "    </tr>\n",
       "    <tr>\n",
       "      <th>4</th>\n",
       "      <td>Razer</td>\n",
       "      <td>Intel i3</td>\n",
       "      <td>4</td>\n",
       "      <td>256GB SSD</td>\n",
       "      <td>AMD Radeon RX 6600</td>\n",
       "      <td>16.0</td>\n",
       "      <td>3840x2160</td>\n",
       "      <td>5.7</td>\n",
       "      <td>3.38</td>\n",
       "      <td>Linux</td>\n",
       "      <td>2059.83</td>\n",
       "    </tr>\n",
       "    <tr>\n",
       "      <th>...</th>\n",
       "      <td>...</td>\n",
       "      <td>...</td>\n",
       "      <td>...</td>\n",
       "      <td>...</td>\n",
       "      <td>...</td>\n",
       "      <td>...</td>\n",
       "      <td>...</td>\n",
       "      <td>...</td>\n",
       "      <td>...</td>\n",
       "      <td>...</td>\n",
       "      <td>...</td>\n",
       "    </tr>\n",
       "    <tr>\n",
       "      <th>11763</th>\n",
       "      <td>Acer</td>\n",
       "      <td>Intel i3</td>\n",
       "      <td>4</td>\n",
       "      <td>2TB SSD</td>\n",
       "      <td>Nvidia RTX 2060</td>\n",
       "      <td>17.3</td>\n",
       "      <td>1366x768</td>\n",
       "      <td>11.5</td>\n",
       "      <td>1.58</td>\n",
       "      <td>macOS</td>\n",
       "      <td>704.82</td>\n",
       "    </tr>\n",
       "    <tr>\n",
       "      <th>11764</th>\n",
       "      <td>Asus</td>\n",
       "      <td>Intel i3</td>\n",
       "      <td>4</td>\n",
       "      <td>2TB SSD</td>\n",
       "      <td>AMD Radeon RX 6800</td>\n",
       "      <td>16.0</td>\n",
       "      <td>1366x768</td>\n",
       "      <td>9.5</td>\n",
       "      <td>2.14</td>\n",
       "      <td>Linux</td>\n",
       "      <td>775.59</td>\n",
       "    </tr>\n",
       "    <tr>\n",
       "      <th>11765</th>\n",
       "      <td>Razer</td>\n",
       "      <td>AMD Ryzen 9</td>\n",
       "      <td>4</td>\n",
       "      <td>2TB SSD</td>\n",
       "      <td>AMD Radeon RX 6600</td>\n",
       "      <td>15.6</td>\n",
       "      <td>2560x1440</td>\n",
       "      <td>8.2</td>\n",
       "      <td>2.05</td>\n",
       "      <td>Linux</td>\n",
       "      <td>2789.46</td>\n",
       "    </tr>\n",
       "    <tr>\n",
       "      <th>11766</th>\n",
       "      <td>Samsung</td>\n",
       "      <td>AMD Ryzen 7</td>\n",
       "      <td>16</td>\n",
       "      <td>512GB SSD</td>\n",
       "      <td>Integrated</td>\n",
       "      <td>13.3</td>\n",
       "      <td>1920x1080</td>\n",
       "      <td>7.5</td>\n",
       "      <td>1.48</td>\n",
       "      <td>macOS</td>\n",
       "      <td>1067.13</td>\n",
       "    </tr>\n",
       "    <tr>\n",
       "      <th>11767</th>\n",
       "      <td>Samsung</td>\n",
       "      <td>Intel i7</td>\n",
       "      <td>8</td>\n",
       "      <td>256GB SSD</td>\n",
       "      <td>Nvidia RTX 3080</td>\n",
       "      <td>17.3</td>\n",
       "      <td>2560x1440</td>\n",
       "      <td>6.4</td>\n",
       "      <td>2.45</td>\n",
       "      <td>FreeDOS</td>\n",
       "      <td>1579.55</td>\n",
       "    </tr>\n",
       "  </tbody>\n",
       "</table>\n",
       "<p>11768 rows × 11 columns</p>\n",
       "</div>"
      ],
      "text/plain": [
       "         Brand    Processor  RAM (GB)    Storage                 GPU  \\\n",
       "0        Apple  AMD Ryzen 3        64  512GB SSD     Nvidia GTX 1650   \n",
       "1        Razer  AMD Ryzen 7         4    1TB SSD     Nvidia RTX 3080   \n",
       "2         Asus     Intel i5        32    2TB SSD     Nvidia RTX 3060   \n",
       "3       Lenovo     Intel i5         4  256GB SSD     Nvidia RTX 3080   \n",
       "4        Razer     Intel i3         4  256GB SSD  AMD Radeon RX 6600   \n",
       "...        ...          ...       ...        ...                 ...   \n",
       "11763     Acer     Intel i3         4    2TB SSD     Nvidia RTX 2060   \n",
       "11764     Asus     Intel i3         4    2TB SSD  AMD Radeon RX 6800   \n",
       "11765    Razer  AMD Ryzen 9         4    2TB SSD  AMD Radeon RX 6600   \n",
       "11766  Samsung  AMD Ryzen 7        16  512GB SSD          Integrated   \n",
       "11767  Samsung     Intel i7         8  256GB SSD     Nvidia RTX 3080   \n",
       "\n",
       "       Screen Size (inch) Resolution  Battery Life (hours)  Weight (kg)  \\\n",
       "0                    17.3  2560x1440                   8.9         1.42   \n",
       "1                    14.0   1366x768                   9.4         2.57   \n",
       "2                    13.3  3840x2160                   8.5         1.74   \n",
       "3                    13.3   1366x768                  10.5         3.10   \n",
       "4                    16.0  3840x2160                   5.7         3.38   \n",
       "...                   ...        ...                   ...          ...   \n",
       "11763                17.3   1366x768                  11.5         1.58   \n",
       "11764                16.0   1366x768                   9.5         2.14   \n",
       "11765                15.6  2560x1440                   8.2         2.05   \n",
       "11766                13.3  1920x1080                   7.5         1.48   \n",
       "11767                17.3  2560x1440                   6.4         2.45   \n",
       "\n",
       "      Operating System  Price ($)  \n",
       "0              FreeDOS    3997.07  \n",
       "1                Linux    1355.78  \n",
       "2              FreeDOS    2673.07  \n",
       "3              Windows     751.17  \n",
       "4                Linux    2059.83  \n",
       "...                ...        ...  \n",
       "11763            macOS     704.82  \n",
       "11764            Linux     775.59  \n",
       "11765            Linux    2789.46  \n",
       "11766            macOS    1067.13  \n",
       "11767          FreeDOS    1579.55  \n",
       "\n",
       "[11768 rows x 11 columns]"
      ]
     },
     "execution_count": 3,
     "metadata": {},
     "output_type": "execute_result"
    }
   ],
   "source": [
    "df"
   ]
  },
  {
   "cell_type": "code",
   "execution_count": 4,
   "id": "06a96fff-e853-456e-8317-0062832d856a",
   "metadata": {},
   "outputs": [
    {
     "data": {
      "text/plain": [
       "Brand                   0\n",
       "Processor               0\n",
       "RAM (GB)                0\n",
       "Storage                 0\n",
       "GPU                     0\n",
       "Screen Size (inch)      0\n",
       "Resolution              0\n",
       "Battery Life (hours)    0\n",
       "Weight (kg)             0\n",
       "Operating System        0\n",
       "Price ($)               0\n",
       "dtype: int64"
      ]
     },
     "execution_count": 4,
     "metadata": {},
     "output_type": "execute_result"
    }
   ],
   "source": [
    "df.isnull().sum()"
   ]
  },
  {
   "cell_type": "code",
   "execution_count": 5,
   "id": "478b9b3a-5afb-4587-965c-d927b0656b9b",
   "metadata": {},
   "outputs": [
    {
     "data": {
      "text/plain": [
       "Index(['Brand', 'Processor', 'RAM (GB)', 'Storage', 'GPU',\n",
       "       'Screen Size (inch)', 'Resolution', 'Battery Life (hours)',\n",
       "       'Weight (kg)', 'Operating System', 'Price ($)'],\n",
       "      dtype='object')"
      ]
     },
     "execution_count": 5,
     "metadata": {},
     "output_type": "execute_result"
    }
   ],
   "source": [
    "df.columns"
   ]
  },
  {
   "cell_type": "markdown",
   "id": "75ee519e-0d1e-46a5-8ee7-1a24c06bcb11",
   "metadata": {},
   "source": [
    "### 1. What are the top 5 most popular (most common) laptop brands in this dataset?"
   ]
  },
  {
   "cell_type": "code",
   "execution_count": 6,
   "id": "542e882b-25e9-4ec8-8e09-8f2e0d2a8b06",
   "metadata": {},
   "outputs": [
    {
     "data": {
      "text/plain": [
       "Brand\n",
       "Apple        1262\n",
       "HP           1208\n",
       "MSI          1190\n",
       "Microsoft    1175\n",
       "Dell         1170\n",
       "Name: count, dtype: int64"
      ]
     },
     "execution_count": 6,
     "metadata": {},
     "output_type": "execute_result"
    }
   ],
   "source": [
    "df['Brand'].value_counts().head(5)"
   ]
  },
  {
   "cell_type": "markdown",
   "id": "d5834fb3-1f7a-413c-9478-044221011f71",
   "metadata": {},
   "source": [
    "### 2. How does the average price of laptops compare across different brands?\n"
   ]
  },
  {
   "cell_type": "code",
   "execution_count": 16,
   "id": "fa5cae64-45e4-4378-8c68-a62e93f6d14f",
   "metadata": {},
   "outputs": [
    {
     "name": "stdout",
     "output_type": "stream",
     "text": [
      "\n",
      "--- 2. Average Price per Brand ---\n",
      "Brand\n",
      "Apple        2915.364279\n",
      "Razer        2695.213804\n",
      "MSI          2517.552227\n",
      "Lenovo       1978.465790\n",
      "Microsoft    1975.203549\n",
      "Dell         1972.270222\n",
      "Samsung      1959.007248\n",
      "HP           1938.518733\n",
      "Asus         1927.315142\n",
      "Acer         1914.108515\n"
     ]
    }
   ],
   "source": [
    "print('\\n--- 2. Average Price per Brand ---')\n",
    "avg_price_brand = df.groupby('Brand')['Price ($)'].mean().sort_values(ascending=False)\n",
    "print(avg_price_brand.to_string())"
   ]
  },
  {
   "cell_type": "markdown",
   "id": "41723feb-0ce0-4a6a-83e2-81a2a13ca1f8",
   "metadata": {},
   "source": [
    "### 3. What is the relationship between the type of processor (like Intel i9, AMD Ryzen 7) and the average price of a laptop?\n"
   ]
  },
  {
   "cell_type": "code",
   "execution_count": 17,
   "id": "0e5d29d7-fbdf-4ea4-8272-4e7eb94b5833",
   "metadata": {},
   "outputs": [
    {
     "name": "stdout",
     "output_type": "stream",
     "text": [
      "\n",
      "--- 3. Average Price by Processor Type ---\n",
      "Processor\n",
      "Intel i9       3084.511834\n",
      "AMD Ryzen 9    3067.286753\n",
      "Intel i7       2300.938979\n",
      "AMD Ryzen 7    2277.774418\n",
      "AMD Ryzen 5    1862.017925\n",
      "Intel i5       1829.125983\n",
      "Intel i3       1555.673013\n",
      "AMD Ryzen 3    1534.919567\n"
     ]
    }
   ],
   "source": [
    "print('\\n--- 3. Average Price by Processor Type ---')\n",
    "avg_price_processor = df.groupby('Processor')['Price ($)'].mean().sort_values(ascending=False)\n",
    "print(avg_price_processor.to_string())"
   ]
  },
  {
   "cell_type": "markdown",
   "id": "abfee5ac-f95e-44dc-952f-e5cb9462e0d8",
   "metadata": {},
   "source": [
    "### 4. What is the distribution of laptops across different operating systems (like Windows, macOS, Linux)?\n"
   ]
  },
  {
   "cell_type": "code",
   "execution_count": 18,
   "id": "020a55bf-e184-41b2-82ce-b16d545e5763",
   "metadata": {},
   "outputs": [
    {
     "name": "stdout",
     "output_type": "stream",
     "text": [
      "\n",
      "--- 4. Distribution Across Operating Systems ---\n",
      "Operating System\n",
      "Windows    2954\n",
      "FreeDOS    2952\n",
      "Linux      2946\n",
      "macOS      2916\n"
     ]
    }
   ],
   "source": [
    "print('\\n--- 4. Distribution Across Operating Systems ---')\n",
    "os_counts = df['Operating System'].value_counts()\n",
    "print(os_counts.to_string())"
   ]
  },
  {
   "cell_type": "markdown",
   "id": "b0933d9f-5090-4e98-8b07-137edf453d89",
   "metadata": {},
   "source": [
    "### 5. How does the screen resolution of a laptop affect its average price?\n"
   ]
  },
  {
   "cell_type": "code",
   "execution_count": 14,
   "id": "d22db615-d1f5-474f-aae5-b0bfc5feb1f9",
   "metadata": {},
   "outputs": [
    {
     "data": {
      "text/plain": [
       "Resolution\n",
       "3840x2160    3017.422036\n",
       "2560x1440    2294.514609\n",
       "1920x1080    1878.658218\n",
       "1366x768     1530.799253\n",
       "Name: Price ($), dtype: float64"
      ]
     },
     "execution_count": 14,
     "metadata": {},
     "output_type": "execute_result"
    }
   ],
   "source": [
    "df.groupby('Resolution')['Price ($)'].mean().sort_values(ascending=False)"
   ]
  },
  {
   "cell_type": "markdown",
   "id": "8c87d37b-1129-41f6-9b38-015e3f695feb",
   "metadata": {},
   "source": [
    "### 6. Is there a connection between the amount of RAM (in GB) in a laptop and its price?"
   ]
  },
  {
   "cell_type": "code",
   "execution_count": 15,
   "id": "8ec0ac66-93c5-452d-8629-8287469e9f1e",
   "metadata": {},
   "outputs": [
    {
     "data": {
      "text/plain": [
       "RAM (GB)\n",
       "4     1387.705468\n",
       "8     1551.721969\n",
       "16    1855.332740\n",
       "32    2486.663017\n",
       "64    3625.575197\n",
       "Name: Price ($), dtype: float64"
      ]
     },
     "execution_count": 15,
     "metadata": {},
     "output_type": "execute_result"
    }
   ],
   "source": [
    "df.groupby('RAM (GB)')['Price ($)'].mean()"
   ]
  },
  {
   "cell_type": "markdown",
   "id": "78aaa6c4-e5b2-4034-9f18-0160907c576c",
   "metadata": {},
   "source": [
    "### 7. What is the overall average price of laptops in this dataset?\n"
   ]
  },
  {
   "cell_type": "code",
   "execution_count": 19,
   "id": "e9e6df1e-d08a-4971-bb97-21dc997a9d0b",
   "metadata": {},
   "outputs": [
    {
     "data": {
      "text/plain": [
       "2183.57160774983"
      ]
     },
     "execution_count": 19,
     "metadata": {},
     "output_type": "execute_result"
    }
   ],
   "source": [
    "df['Price ($)'].mean()"
   ]
  },
  {
   "cell_type": "markdown",
   "id": "9c9ed528-c6cc-491b-888a-db4924dad6f3",
   "metadata": {},
   "source": [
    "### 8. What is the overall average battery life (in hours) for these laptops?\n"
   ]
  },
  {
   "cell_type": "code",
   "execution_count": 20,
   "id": "cd0ab992-cbb5-4066-bd7a-d90a8aa7a459",
   "metadata": {},
   "outputs": [
    {
     "data": {
      "text/plain": [
       "8.027855200543849"
      ]
     },
     "execution_count": 20,
     "metadata": {},
     "output_type": "execute_result"
    }
   ],
   "source": [
    "df['Battery Life (hours)'].mean()"
   ]
  },
  {
   "cell_type": "markdown",
   "id": "9e34d15d-daa9-49a0-b938-cbf83bab7396",
   "metadata": {},
   "source": [
    "### 9. How does average battery life vary with different screen sizes?\n"
   ]
  },
  {
   "cell_type": "code",
   "execution_count": 21,
   "id": "626ac82b-bfab-4ee6-8799-352853a49309",
   "metadata": {},
   "outputs": [
    {
     "data": {
      "text/plain": [
       "Screen Size (inch)\n",
       "13.3    8.048002\n",
       "14.0    7.956324\n",
       "15.6    8.042514\n",
       "16.0    8.027724\n",
       "17.3    8.067481\n",
       "Name: Battery Life (hours), dtype: float64"
      ]
     },
     "execution_count": 21,
     "metadata": {},
     "output_type": "execute_result"
    }
   ],
   "source": [
    "df.groupby('Screen Size (inch)')['Battery Life (hours)'].mean()"
   ]
  },
  {
   "cell_type": "markdown",
   "id": "c5406a6a-cfbe-4097-88f5-3e3cab0b813b",
   "metadata": {},
   "source": [
    "### 10. What is the distribution of laptop weights (kg) in this dataset?\n"
   ]
  },
  {
   "cell_type": "code",
   "execution_count": 22,
   "id": "b9d468aa-240e-4572-b20a-c167f048e424",
   "metadata": {},
   "outputs": [
    {
     "data": {
      "text/plain": [
       "count    11768.000000\n",
       "mean         2.341117\n",
       "std          0.667921\n",
       "min          1.200000\n",
       "25%          1.760000\n",
       "50%          2.340000\n",
       "75%          2.910000\n",
       "max          3.500000\n",
       "Name: Weight (kg), dtype: float64"
      ]
     },
     "execution_count": 22,
     "metadata": {},
     "output_type": "execute_result"
    }
   ],
   "source": [
    "df['Weight (kg)'].describe()"
   ]
  },
  {
   "cell_type": "markdown",
   "id": "27672a88-7d97-4fbc-b585-84db8aabf703",
   "metadata": {},
   "source": [
    "### Histogram of laptop weights"
   ]
  },
  {
   "cell_type": "code",
   "execution_count": 25,
   "id": "89278719-5da5-4868-9630-263007c21206",
   "metadata": {},
   "outputs": [
    {
     "data": {
      "image/png": "[encoded data removed]",
      "text/plain": [
       "<Figure size 640x480 with 1 Axes>"
      ]
     },
     "metadata": {},
     "output_type": "display_data"
    }
   ],
   "source": [
    "plt.figure()\n",
    "df['Weight (kg)'].hist(bins=10)\n",
    "plt.xlabel('Weight (kg)')\n",
    "plt.ylabel('Count')\n",
    "plt.title('Histogram of Laptop Weights')\n",
    "plt.tight_layout()\n",
    "plt.show()"
   ]
  },
  {
   "cell_type": "markdown",
   "id": "c4b532e2-8c1b-43c2-aad5-0928a742a68c",
   "metadata": {},
   "source": [
    "### 11. How does the type of GPU (Graphics Processing Unit) influence the average price of a laptop?\n"
   ]
  },
  {
   "cell_type": "code",
   "execution_count": 23,
   "id": "894dd2a6-16b5-4a87-a94f-24dcac3d70d2",
   "metadata": {},
   "outputs": [
    {
     "name": "stdout",
     "output_type": "stream",
     "text": [
      "\n",
      "--- 11. Average Price by GPU ---\n",
      "GPU\n",
      "Nvidia RTX 3060       2337.062001\n",
      "AMD Radeon RX 6800    2319.744506\n",
      "AMD Radeon RX 6600    2290.889069\n",
      "Nvidia GTX 1650       2290.877444\n",
      "Nvidia RTX 2060       2273.021833\n",
      "Nvidia RTX 3080       2259.618349\n",
      "Integrated            1500.884743\n"
     ]
    }
   ],
   "source": [
    "print('\\n--- 11. Average Price by GPU ---')\n",
    "avg_price_gpu = df.groupby('GPU')['Price ($)'].mean().sort_values(ascending=False)\n",
    "print(avg_price_gpu.to_string())"
   ]
  },
  {
   "cell_type": "markdown",
   "id": "99628891-f8dd-44fe-bb62-c2535dfdd77e",
   "metadata": {},
   "source": [
    "### 12. For a specific operating system (e.g., \"Windows\"), what is the average price of laptops with different screen resolutions?\n"
   ]
  },
  {
   "cell_type": "code",
   "execution_count": 24,
   "id": "e5cbd48c-040d-426b-9686-9e357e0a9ba8",
   "metadata": {},
   "outputs": [
    {
     "name": "stdout",
     "output_type": "stream",
     "text": [
      "\n",
      "--- 12. Average Price by Resolution for Windows Laptops ---\n",
      "Resolution\n",
      "3840x2160    3006.967253\n",
      "2560x1440    2312.928245\n",
      "1920x1080    1874.140408\n",
      "1366x768     1515.652545\n"
     ]
    }
   ],
   "source": [
    "print('\\n--- 12. Average Price by Resolution for Windows Laptops ---')\n",
    "windows_df = df[df['Operating System'] == 'Windows']\n",
    "avg_price_windows_resolution = windows_df.groupby('Resolution')['Price ($)'].mean().sort_values(ascending=False)\n",
    "print(avg_price_windows_resolution.to_string())"
   ]
  },
  {
   "cell_type": "markdown",
   "id": "94f5fd39-0f9e-4e75-beaf-b0f2a8687690",
   "metadata": {},
   "source": [
    "### 13. Is there a correlation between a laptop's weight and its screen size?\n"
   ]
  },
  {
   "cell_type": "code",
   "execution_count": 26,
   "id": "ab804256-1b25-4fb1-a0a6-9376a6629e1a",
   "metadata": {},
   "outputs": [
    {
     "name": "stdout",
     "output_type": "stream",
     "text": [
      "\n",
      "--- 13. Correlation between Weight and Screen Size ---\n",
      "-0.016\n"
     ]
    }
   ],
   "source": [
    "print('\\n--- 13. Correlation between Weight and Screen Size ---')\n",
    "weight_screen_corr = df['Weight (kg)'].corr(df['Screen Size (inch)'])\n",
    "print(f'{weight_screen_corr:.3f}')"
   ]
  },
  {
   "cell_type": "markdown",
   "id": "ab6ece71-4aa1-4897-afdc-4c797cfe6bf5",
   "metadata": {},
   "source": [
    "### 14. Which storage type and capacity (e.g., 512GB SSD, 1TB HDD) is associated with the highest average price?\n"
   ]
  },
  {
   "cell_type": "code",
   "execution_count": 27,
   "id": "e4230497-6c08-4e2c-9407-d05ad03d6209",
   "metadata": {},
   "outputs": [
    {
     "name": "stdout",
     "output_type": "stream",
     "text": [
      "\n",
      "--- 14. Storage Type/Capacity with Highest Average Price ---\n",
      "Storage\n",
      "1TB SSD      2289.761842\n",
      "256GB SSD    2272.901890\n",
      "512GB SSD    2231.923822\n",
      "2TB SSD      2209.042145\n",
      "1TB HDD      1909.371212\n",
      "Highest average price: 1TB SSD -> $2289.76\n"
     ]
    }
   ],
   "source": [
    "print('\\n--- 14. Storage Type/Capacity with Highest Average Price ---')\n",
    "avg_price_storage = df.groupby('Storage')['Price ($)'].mean().sort_values(ascending=False)\n",
    "print(avg_price_storage.to_string())\n",
    "print(f'Highest average price: {avg_price_storage.idxmax()} -> ${avg_price_storage.max():.2f}')"
   ]
  },
  {
   "cell_type": "markdown",
   "id": "586cfd8e-bf14-482c-b1d1-dd4b6cb069b4",
   "metadata": {},
   "source": [
    "### 15. What is the total sales value represented in this dataset?\n"
   ]
  },
  {
   "cell_type": "code",
   "execution_count": 28,
   "id": "7a7469ad-6a8b-4c5c-8815-b69e7e1c043a",
   "metadata": {},
   "outputs": [
    {
     "name": "stdout",
     "output_type": "stream",
     "text": [
      "\n",
      "--- 15. Total Sales Value (Sum of Listed Prices) ---\n",
      "$25,696,270.68\n"
     ]
    }
   ],
   "source": [
    "print('\\n--- 15. Total Sales Value (Sum of Listed Prices) ---')\n",
    "total_sales_value = df['Price ($)'].sum()\n",
    "print(f'${total_sales_value:,.2f}')"
   ]
  },
  {
   "cell_type": "markdown",
   "id": "9f8b05de-15a6-4af9-9ca5-aa3da9442134",
   "metadata": {},
   "source": [
    "### 16. How many total laptops are included in this dataset?"
   ]
  },
  {
   "cell_type": "code",
   "execution_count": 29,
   "id": "f37f7bd5-6689-4043-97cc-70bf9eb78b04",
   "metadata": {},
   "outputs": [
    {
     "name": "stdout",
     "output_type": "stream",
     "text": [
      "\n",
      "--- 16. Total Number of Laptops ---\n",
      "11768\n"
     ]
    }
   ],
   "source": [
    "print('\\n--- 16. Total Number of Laptops ---')\n",
    "total_laptops = len(df)\n",
    "print(total_laptops)"
   ]
  },
  {
   "cell_type": "code",
   "execution_count": null,
   "id": "abdb0fb4-1421-4ef7-8e9b-f712915e6b22",
   "metadata": {},
   "outputs": [],
   "source": []
  }
 ],
 "metadata": {
  "kernelspec": {
   "display_name": "Python [conda env:base] *",
   "language": "python",
   "name": "conda-base-py"
  },
  "language_info": {
   "codemirror_mode": {
    "name": "ipython",
    "version": 3
   },
   "file_extension": ".py",
   "mimetype": "text/x-python",
   "name": "python",
   "nbconvert_exporter": "python",
   "pygments_lexer": "ipython3",
   "version": "3.12.7"
  }
 },
 "nbformat": 4,
 "nbformat_minor": 5
}
